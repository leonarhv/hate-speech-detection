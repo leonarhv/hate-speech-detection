{
 "cells": [
  {
   "cell_type": "markdown",
   "id": "9bddec13",
   "metadata": {},
   "source": [
    "## Importando bibliotecas"
   ]
  },
  {
   "cell_type": "code",
   "execution_count": 1,
   "id": "bf3bfea6",
   "metadata": {},
   "outputs": [],
   "source": [
    "import sklearn\n",
    "import numpy as np\n",
    "import pandas as pd"
   ]
  },
  {
   "cell_type": "markdown",
   "id": "fa233fd1",
   "metadata": {},
   "source": [
    "## Importando Data"
   ]
  },
  {
   "cell_type": "code",
   "execution_count": 2,
   "id": "4f392aa1",
   "metadata": {},
   "outputs": [],
   "source": [
    "# training data\n",
    "train = pd.read_csv(\"./train_pt.csv\")\n",
    "\n",
    "# test data\n",
    "test = pd.read_csv(\"./tweets-29-10-2022.csv\")"
   ]
  },
  {
   "cell_type": "markdown",
   "id": "c6e4c573",
   "metadata": {},
   "source": [
    "## Explorando o Dataset"
   ]
  },
  {
   "cell_type": "code",
   "execution_count": 3,
   "id": "bf4fa0ef",
   "metadata": {},
   "outputs": [
    {
     "data": {
      "text/html": [
       "<div>\n",
       "<style scoped>\n",
       "    .dataframe tbody tr th:only-of-type {\n",
       "        vertical-align: middle;\n",
       "    }\n",
       "\n",
       "    .dataframe tbody tr th {\n",
       "        vertical-align: top;\n",
       "    }\n",
       "\n",
       "    .dataframe thead th {\n",
       "        text-align: right;\n",
       "    }\n",
       "</style>\n",
       "<table border=\"1\" class=\"dataframe\">\n",
       "  <thead>\n",
       "    <tr style=\"text-align: right;\">\n",
       "      <th></th>\n",
       "      <th>id</th>\n",
       "      <th>hate</th>\n",
       "      <th>text</th>\n",
       "    </tr>\n",
       "  </thead>\n",
       "  <tbody>\n",
       "    <tr>\n",
       "      <th>0</th>\n",
       "      <td>1</td>\n",
       "      <td>yes</td>\n",
       "      <td>Votaram no PEZAO Agora tomem no CZAO</td>\n",
       "    </tr>\n",
       "    <tr>\n",
       "      <th>1</th>\n",
       "      <td>2</td>\n",
       "      <td>no</td>\n",
       "      <td>cuidado com a poupanca pessoal Lembram o que a...</td>\n",
       "    </tr>\n",
       "    <tr>\n",
       "      <th>2</th>\n",
       "      <td>3</td>\n",
       "      <td>no</td>\n",
       "      <td>Sabe o que eu acho engracado os nossos governa...</td>\n",
       "    </tr>\n",
       "    <tr>\n",
       "      <th>3</th>\n",
       "      <td>4</td>\n",
       "      <td>no</td>\n",
       "      <td>Podiam retirar dos lucros dos bancos</td>\n",
       "    </tr>\n",
       "    <tr>\n",
       "      <th>4</th>\n",
       "      <td>5</td>\n",
       "      <td>no</td>\n",
       "      <td>CADE O GALVAO PRA NARRAR AGORA   FALIIIIUUUUUU...</td>\n",
       "    </tr>\n",
       "    <tr>\n",
       "      <th>5</th>\n",
       "      <td>6</td>\n",
       "      <td>no</td>\n",
       "      <td>Nao e possivel que deputados tenham tantos car...</td>\n",
       "    </tr>\n",
       "    <tr>\n",
       "      <th>6</th>\n",
       "      <td>7</td>\n",
       "      <td>no</td>\n",
       "      <td>Sejam honestos aprovem o projeto original vamo...</td>\n",
       "    </tr>\n",
       "    <tr>\n",
       "      <th>7</th>\n",
       "      <td>8</td>\n",
       "      <td>no</td>\n",
       "      <td>Nao a pizza anunciada de anistia do caixa  Sim...</td>\n",
       "    </tr>\n",
       "    <tr>\n",
       "      <th>8</th>\n",
       "      <td>9</td>\n",
       "      <td>no</td>\n",
       "      <td>quem ja viu bandidos fazendo leis contra antic...</td>\n",
       "    </tr>\n",
       "    <tr>\n",
       "      <th>9</th>\n",
       "      <td>10</td>\n",
       "      <td>no</td>\n",
       "      <td>Olha os caras fazendo algo de util e de intere...</td>\n",
       "    </tr>\n",
       "    <tr>\n",
       "      <th>10</th>\n",
       "      <td>11</td>\n",
       "      <td>no</td>\n",
       "      <td>Mas ai o MBL mobiliza o povo e vai pras ruas  ...</td>\n",
       "    </tr>\n",
       "    <tr>\n",
       "      <th>11</th>\n",
       "      <td>12</td>\n",
       "      <td>no</td>\n",
       "      <td>Enquanto isso o teori segura a bronca no stf</td>\n",
       "    </tr>\n",
       "    <tr>\n",
       "      <th>12</th>\n",
       "      <td>13</td>\n",
       "      <td>no</td>\n",
       "      <td>AVANTE  MEDIDAS o Brasil clama por elas pra ci...</td>\n",
       "    </tr>\n",
       "    <tr>\n",
       "      <th>13</th>\n",
       "      <td>14</td>\n",
       "      <td>no</td>\n",
       "      <td>Havia previsao entrar em plenario no comeco de...</td>\n",
       "    </tr>\n",
       "    <tr>\n",
       "      <th>14</th>\n",
       "      <td>15</td>\n",
       "      <td>no</td>\n",
       "      <td>baguncado do jeito que esta daqui ha pouco vai...</td>\n",
       "    </tr>\n",
       "    <tr>\n",
       "      <th>15</th>\n",
       "      <td>16</td>\n",
       "      <td>no</td>\n",
       "      <td>Politicos jamais aprovam leis que prejudicam e...</td>\n",
       "    </tr>\n",
       "    <tr>\n",
       "      <th>16</th>\n",
       "      <td>17</td>\n",
       "      <td>no</td>\n",
       "      <td>Limitar por   ou  anos o salario de politico e...</td>\n",
       "    </tr>\n",
       "    <tr>\n",
       "      <th>17</th>\n",
       "      <td>18</td>\n",
       "      <td>no</td>\n",
       "      <td>o problema nem sao os salarios  O PROBLEMA sao...</td>\n",
       "    </tr>\n",
       "    <tr>\n",
       "      <th>18</th>\n",
       "      <td>19</td>\n",
       "      <td>no</td>\n",
       "      <td>para o Judiciario Acreditam mesmo neste indice</td>\n",
       "    </tr>\n",
       "    <tr>\n",
       "      <th>19</th>\n",
       "      <td>20</td>\n",
       "      <td>no</td>\n",
       "      <td>Quem gera a riqueza de uma nacao e o trabalhad...</td>\n",
       "    </tr>\n",
       "  </tbody>\n",
       "</table>\n",
       "</div>"
      ],
      "text/plain": [
       "    id hate                                               text\n",
       "0    1  yes               Votaram no PEZAO Agora tomem no CZAO\n",
       "1    2   no  cuidado com a poupanca pessoal Lembram o que a...\n",
       "2    3   no  Sabe o que eu acho engracado os nossos governa...\n",
       "3    4   no              Podiam retirar dos lucros dos bancos \n",
       "4    5   no  CADE O GALVAO PRA NARRAR AGORA   FALIIIIUUUUUU...\n",
       "5    6   no  Nao e possivel que deputados tenham tantos car...\n",
       "6    7   no  Sejam honestos aprovem o projeto original vamo...\n",
       "7    8   no  Nao a pizza anunciada de anistia do caixa  Sim...\n",
       "8    9   no  quem ja viu bandidos fazendo leis contra antic...\n",
       "9   10   no  Olha os caras fazendo algo de util e de intere...\n",
       "10  11   no  Mas ai o MBL mobiliza o povo e vai pras ruas  ...\n",
       "11  12   no       Enquanto isso o teori segura a bronca no stf\n",
       "12  13   no  AVANTE  MEDIDAS o Brasil clama por elas pra ci...\n",
       "13  14   no  Havia previsao entrar em plenario no comeco de...\n",
       "14  15   no  baguncado do jeito que esta daqui ha pouco vai...\n",
       "15  16   no  Politicos jamais aprovam leis que prejudicam e...\n",
       "16  17   no  Limitar por   ou  anos o salario de politico e...\n",
       "17  18   no  o problema nem sao os salarios  O PROBLEMA sao...\n",
       "18  19   no    para o Judiciario Acreditam mesmo neste indice \n",
       "19  20   no  Quem gera a riqueza de uma nacao e o trabalhad..."
      ]
     },
     "execution_count": 3,
     "metadata": {},
     "output_type": "execute_result"
    }
   ],
   "source": [
    "train.head(20)"
   ]
  },
  {
   "cell_type": "code",
   "execution_count": 4,
   "id": "d00f0bdd",
   "metadata": {},
   "outputs": [
    {
     "data": {
      "text/html": [
       "<div>\n",
       "<style scoped>\n",
       "    .dataframe tbody tr th:only-of-type {\n",
       "        vertical-align: middle;\n",
       "    }\n",
       "\n",
       "    .dataframe tbody tr th {\n",
       "        vertical-align: top;\n",
       "    }\n",
       "\n",
       "    .dataframe thead th {\n",
       "        text-align: right;\n",
       "    }\n",
       "</style>\n",
       "<table border=\"1\" class=\"dataframe\">\n",
       "  <thead>\n",
       "    <tr style=\"text-align: right;\">\n",
       "      <th></th>\n",
       "      <th>trend</th>\n",
       "      <th>id</th>\n",
       "      <th>text</th>\n",
       "    </tr>\n",
       "  </thead>\n",
       "  <tbody>\n",
       "    <tr>\n",
       "      <th>94</th>\n",
       "      <td>Gabigol</td>\n",
       "      <td>1586531300848337000</td>\n",
       "      <td>RT @camilavicentea: “Agora o que nos resta? An...</td>\n",
       "    </tr>\n",
       "    <tr>\n",
       "      <th>95</th>\n",
       "      <td>Gabigol</td>\n",
       "      <td>1586531298474356700</td>\n",
       "      <td>RT @brunoformiga: Existe a Era Zico. E existe ...</td>\n",
       "    </tr>\n",
       "    <tr>\n",
       "      <th>96</th>\n",
       "      <td>Gabigol</td>\n",
       "      <td>1586531304929169400</td>\n",
       "      <td>RT @gabigol: Deus Obrigado por tudo, pela sua ...</td>\n",
       "    </tr>\n",
       "    <tr>\n",
       "      <th>97</th>\n",
       "      <td>Gabigol</td>\n",
       "      <td>1586531298025226200</td>\n",
       "      <td>RT @gabigol: BICAMPEÃO! 👑🏆   #M3NGO  @Flamengo...</td>\n",
       "    </tr>\n",
       "    <tr>\n",
       "      <th>98</th>\n",
       "      <td>Gabigol</td>\n",
       "      <td>1586531297115000800</td>\n",
       "      <td>@gabigol Gabriel, obrigado por tudo</td>\n",
       "    </tr>\n",
       "  </tbody>\n",
       "</table>\n",
       "</div>"
      ],
      "text/plain": [
       "      trend                   id  \\\n",
       "94  Gabigol  1586531300848337000   \n",
       "95  Gabigol  1586531298474356700   \n",
       "96  Gabigol  1586531304929169400   \n",
       "97  Gabigol  1586531298025226200   \n",
       "98  Gabigol  1586531297115000800   \n",
       "\n",
       "                                                 text  \n",
       "94  RT @camilavicentea: “Agora o que nos resta? An...  \n",
       "95  RT @brunoformiga: Existe a Era Zico. E existe ...  \n",
       "96  RT @gabigol: Deus Obrigado por tudo, pela sua ...  \n",
       "97  RT @gabigol: BICAMPEÃO! 👑🏆   #M3NGO  @Flamengo...  \n",
       "98                @gabigol Gabriel, obrigado por tudo  "
      ]
     },
     "execution_count": 4,
     "metadata": {},
     "output_type": "execute_result"
    }
   ],
   "source": [
    "test.tail()"
   ]
  },
  {
   "cell_type": "code",
   "execution_count": 5,
   "id": "5a2b07d9",
   "metadata": {},
   "outputs": [],
   "source": [
    "label_map = {\n",
    "    'yes': 1,\n",
    "    'no': 0\n",
    "}\n",
    "\n",
    "train['label'] = train.hate.map(label_map)"
   ]
  },
  {
   "cell_type": "code",
   "execution_count": 6,
   "id": "fc5d5d0c",
   "metadata": {},
   "outputs": [
    {
     "data": {
      "text/html": [
       "<div>\n",
       "<style scoped>\n",
       "    .dataframe tbody tr th:only-of-type {\n",
       "        vertical-align: middle;\n",
       "    }\n",
       "\n",
       "    .dataframe tbody tr th {\n",
       "        vertical-align: top;\n",
       "    }\n",
       "\n",
       "    .dataframe thead th {\n",
       "        text-align: right;\n",
       "    }\n",
       "</style>\n",
       "<table border=\"1\" class=\"dataframe\">\n",
       "  <thead>\n",
       "    <tr style=\"text-align: right;\">\n",
       "      <th></th>\n",
       "      <th>id</th>\n",
       "      <th>hate</th>\n",
       "      <th>text</th>\n",
       "      <th>label</th>\n",
       "    </tr>\n",
       "  </thead>\n",
       "  <tbody>\n",
       "    <tr>\n",
       "      <th>0</th>\n",
       "      <td>1</td>\n",
       "      <td>yes</td>\n",
       "      <td>Votaram no PEZAO Agora tomem no CZAO</td>\n",
       "      <td>1</td>\n",
       "    </tr>\n",
       "    <tr>\n",
       "      <th>1</th>\n",
       "      <td>2</td>\n",
       "      <td>no</td>\n",
       "      <td>cuidado com a poupanca pessoal Lembram o que a...</td>\n",
       "      <td>0</td>\n",
       "    </tr>\n",
       "    <tr>\n",
       "      <th>2</th>\n",
       "      <td>3</td>\n",
       "      <td>no</td>\n",
       "      <td>Sabe o que eu acho engracado os nossos governa...</td>\n",
       "      <td>0</td>\n",
       "    </tr>\n",
       "    <tr>\n",
       "      <th>3</th>\n",
       "      <td>4</td>\n",
       "      <td>no</td>\n",
       "      <td>Podiam retirar dos lucros dos bancos</td>\n",
       "      <td>0</td>\n",
       "    </tr>\n",
       "    <tr>\n",
       "      <th>4</th>\n",
       "      <td>5</td>\n",
       "      <td>no</td>\n",
       "      <td>CADE O GALVAO PRA NARRAR AGORA   FALIIIIUUUUUU...</td>\n",
       "      <td>0</td>\n",
       "    </tr>\n",
       "  </tbody>\n",
       "</table>\n",
       "</div>"
      ],
      "text/plain": [
       "   id hate                                               text  label\n",
       "0   1  yes               Votaram no PEZAO Agora tomem no CZAO      1\n",
       "1   2   no  cuidado com a poupanca pessoal Lembram o que a...      0\n",
       "2   3   no  Sabe o que eu acho engracado os nossos governa...      0\n",
       "3   4   no              Podiam retirar dos lucros dos bancos       0\n",
       "4   5   no  CADE O GALVAO PRA NARRAR AGORA   FALIIIIUUUUUU...      0"
      ]
     },
     "execution_count": 6,
     "metadata": {},
     "output_type": "execute_result"
    }
   ],
   "source": [
    "train.head()"
   ]
  },
  {
   "cell_type": "code",
   "execution_count": 7,
   "id": "14e3d0d6",
   "metadata": {},
   "outputs": [
    {
     "data": {
      "text/plain": [
       "831"
      ]
     },
     "execution_count": 7,
     "metadata": {},
     "output_type": "execute_result"
    }
   ],
   "source": [
    "# Count non hate speech related tweets\n",
    "sum(train[\"label\"] == 0)"
   ]
  },
  {
   "cell_type": "code",
   "execution_count": 28,
   "id": "0af81199",
   "metadata": {},
   "outputs": [
    {
     "data": {
      "text/plain": [
       "0       1\n",
       "1       0\n",
       "2       0\n",
       "3       0\n",
       "4       0\n",
       "       ..\n",
       "1028    0\n",
       "1029    0\n",
       "1030    1\n",
       "1031    0\n",
       "1032    0\n",
       "Name: label, Length: 1033, dtype: int64"
      ]
     },
     "execution_count": 28,
     "metadata": {},
     "output_type": "execute_result"
    }
   ],
   "source": [
    "train[\"label\"]"
   ]
  },
  {
   "cell_type": "code",
   "execution_count": 8,
   "id": "0ec0cd7e",
   "metadata": {},
   "outputs": [
    {
     "data": {
      "text/plain": [
       "202"
      ]
     },
     "execution_count": 8,
     "metadata": {},
     "output_type": "execute_result"
    }
   ],
   "source": [
    "# Count hate speech related tweets\n",
    "sum(train[\"label\"] == 1)"
   ]
  },
  {
   "cell_type": "code",
   "execution_count": 9,
   "id": "c289933f",
   "metadata": {},
   "outputs": [
    {
     "data": {
      "text/plain": [
       "(1033, 4)"
      ]
     },
     "execution_count": 9,
     "metadata": {},
     "output_type": "execute_result"
    }
   ],
   "source": [
    "train.shape"
   ]
  },
  {
   "cell_type": "code",
   "execution_count": 10,
   "id": "c991323e",
   "metadata": {
    "scrolled": true
   },
   "outputs": [
    {
     "data": {
      "text/plain": [
       "id       0\n",
       "hate     0\n",
       "text     0\n",
       "label    0\n",
       "dtype: int64"
      ]
     },
     "execution_count": 10,
     "metadata": {},
     "output_type": "execute_result"
    }
   ],
   "source": [
    "# check if there are any missing values\n",
    "train.isnull().sum()\n",
    "#train.isnull().values.any()"
   ]
  },
  {
   "cell_type": "markdown",
   "id": "644f4d1c",
   "metadata": {},
   "source": [
    "## Limpeza dos Dados"
   ]
  },
  {
   "cell_type": "code",
   "execution_count": 11,
   "id": "94a1c333",
   "metadata": {},
   "outputs": [
    {
     "name": "stdout",
     "output_type": "stream",
     "text": [
      "Requirement already satisfied: tweet-preprocessor in c:\\users\\leonardo\\anaconda3\\lib\\site-packages (0.6.0)\n"
     ]
    }
   ],
   "source": [
    "#install tweet-preprocessor to clean tweets\n",
    "!pip install tweet-preprocessor"
   ]
  },
  {
   "cell_type": "code",
   "execution_count": 12,
   "id": "e9c69468",
   "metadata": {},
   "outputs": [],
   "source": [
    "# remove special characters using the regular expression library\n",
    "import re\n",
    "\n",
    "#set up punctuations we want to be replaced\n",
    "REPLACE_NO_SPACE = re.compile(\"(\\.)|(\\;)|(\\:)|(\\!)|(\\')|(\\?)|(\\,)|(\\\")|(\\|)|(\\()|(\\))|(\\[)|(\\])|(\\%)|(\\$)|(\\>)|(\\<)|(\\{)|(\\})\")\n",
    "REPLACE_WITH_SPACE = re.compile(\"(<br\\s/><br\\s/?)|(-)|(/)|(:).\")"
   ]
  },
  {
   "cell_type": "code",
   "execution_count": 13,
   "id": "979d7484",
   "metadata": {},
   "outputs": [],
   "source": [
    "import preprocessor as p\n",
    "\n",
    "# Função para limpar o Dataset (utiliza o tweet_preprocessor e expressões regulares)\n",
    "def clean_tweets(df):\n",
    "  tempArr = []\n",
    "  for line in df:\n",
    "    # send to tweet_processor\n",
    "    tmpL = p.clean(line)\n",
    "    # remove puctuation\n",
    "    tmpL = REPLACE_NO_SPACE.sub(\"\", tmpL.lower()) # converte todos os tweets para lower cases\n",
    "    tmpL = REPLACE_WITH_SPACE.sub(\" \", tmpL)\n",
    "    tempArr.append(tmpL)\n",
    "  return tempArr"
   ]
  },
  {
   "cell_type": "code",
   "execution_count": 14,
   "id": "2febd8ce",
   "metadata": {},
   "outputs": [],
   "source": [
    "# clean training data\n",
    "train_clean_tweet = clean_tweets(train[\"text\"])\n",
    "train_clean_tweet = pd.DataFrame(train_clean_tweet)"
   ]
  },
  {
   "cell_type": "code",
   "execution_count": 15,
   "id": "3c9333d5",
   "metadata": {
    "scrolled": true
   },
   "outputs": [
    {
     "data": {
      "text/html": [
       "<div>\n",
       "<style scoped>\n",
       "    .dataframe tbody tr th:only-of-type {\n",
       "        vertical-align: middle;\n",
       "    }\n",
       "\n",
       "    .dataframe tbody tr th {\n",
       "        vertical-align: top;\n",
       "    }\n",
       "\n",
       "    .dataframe thead th {\n",
       "        text-align: right;\n",
       "    }\n",
       "</style>\n",
       "<table border=\"1\" class=\"dataframe\">\n",
       "  <thead>\n",
       "    <tr style=\"text-align: right;\">\n",
       "      <th></th>\n",
       "      <th>id</th>\n",
       "      <th>hate</th>\n",
       "      <th>text</th>\n",
       "      <th>label</th>\n",
       "      <th>clean_tweet</th>\n",
       "    </tr>\n",
       "  </thead>\n",
       "  <tbody>\n",
       "    <tr>\n",
       "      <th>0</th>\n",
       "      <td>1</td>\n",
       "      <td>yes</td>\n",
       "      <td>Votaram no PEZAO Agora tomem no CZAO</td>\n",
       "      <td>1</td>\n",
       "      <td>votaram no pezao agora tomem no czao</td>\n",
       "    </tr>\n",
       "    <tr>\n",
       "      <th>1</th>\n",
       "      <td>2</td>\n",
       "      <td>no</td>\n",
       "      <td>cuidado com a poupanca pessoal Lembram o que a...</td>\n",
       "      <td>0</td>\n",
       "      <td>cuidado com a poupanca pessoal lembram o que a...</td>\n",
       "    </tr>\n",
       "    <tr>\n",
       "      <th>2</th>\n",
       "      <td>3</td>\n",
       "      <td>no</td>\n",
       "      <td>Sabe o que eu acho engracado os nossos governa...</td>\n",
       "      <td>0</td>\n",
       "      <td>sabe o que eu acho engracado os nossos governa...</td>\n",
       "    </tr>\n",
       "    <tr>\n",
       "      <th>3</th>\n",
       "      <td>4</td>\n",
       "      <td>no</td>\n",
       "      <td>Podiam retirar dos lucros dos bancos</td>\n",
       "      <td>0</td>\n",
       "      <td>podiam retirar dos lucros dos bancos</td>\n",
       "    </tr>\n",
       "    <tr>\n",
       "      <th>4</th>\n",
       "      <td>5</td>\n",
       "      <td>no</td>\n",
       "      <td>CADE O GALVAO PRA NARRAR AGORA   FALIIIIUUUUUU...</td>\n",
       "      <td>0</td>\n",
       "      <td>cade o galvao pra narrar agora faliiiiuuuuuuu ...</td>\n",
       "    </tr>\n",
       "    <tr>\n",
       "      <th>5</th>\n",
       "      <td>6</td>\n",
       "      <td>no</td>\n",
       "      <td>Nao e possivel que deputados tenham tantos car...</td>\n",
       "      <td>0</td>\n",
       "      <td>nao e possivel que deputados tenham tantos car...</td>\n",
       "    </tr>\n",
       "    <tr>\n",
       "      <th>6</th>\n",
       "      <td>7</td>\n",
       "      <td>no</td>\n",
       "      <td>Sejam honestos aprovem o projeto original vamo...</td>\n",
       "      <td>0</td>\n",
       "      <td>sejam honestos aprovem o projeto original vamo...</td>\n",
       "    </tr>\n",
       "    <tr>\n",
       "      <th>7</th>\n",
       "      <td>8</td>\n",
       "      <td>no</td>\n",
       "      <td>Nao a pizza anunciada de anistia do caixa  Sim...</td>\n",
       "      <td>0</td>\n",
       "      <td>nao a pizza anunciada de anistia do caixa sim ...</td>\n",
       "    </tr>\n",
       "    <tr>\n",
       "      <th>8</th>\n",
       "      <td>9</td>\n",
       "      <td>no</td>\n",
       "      <td>quem ja viu bandidos fazendo leis contra antic...</td>\n",
       "      <td>0</td>\n",
       "      <td>quem ja viu bandidos fazendo leis contra antic...</td>\n",
       "    </tr>\n",
       "    <tr>\n",
       "      <th>9</th>\n",
       "      <td>10</td>\n",
       "      <td>no</td>\n",
       "      <td>Olha os caras fazendo algo de util e de intere...</td>\n",
       "      <td>0</td>\n",
       "      <td>olha os caras fazendo algo de util e de intere...</td>\n",
       "    </tr>\n",
       "  </tbody>\n",
       "</table>\n",
       "</div>"
      ],
      "text/plain": [
       "   id hate                                               text  label  \\\n",
       "0   1  yes               Votaram no PEZAO Agora tomem no CZAO      1   \n",
       "1   2   no  cuidado com a poupanca pessoal Lembram o que a...      0   \n",
       "2   3   no  Sabe o que eu acho engracado os nossos governa...      0   \n",
       "3   4   no              Podiam retirar dos lucros dos bancos       0   \n",
       "4   5   no  CADE O GALVAO PRA NARRAR AGORA   FALIIIIUUUUUU...      0   \n",
       "5   6   no  Nao e possivel que deputados tenham tantos car...      0   \n",
       "6   7   no  Sejam honestos aprovem o projeto original vamo...      0   \n",
       "7   8   no  Nao a pizza anunciada de anistia do caixa  Sim...      0   \n",
       "8   9   no  quem ja viu bandidos fazendo leis contra antic...      0   \n",
       "9  10   no  Olha os caras fazendo algo de util e de intere...      0   \n",
       "\n",
       "                                         clean_tweet  \n",
       "0               votaram no pezao agora tomem no czao  \n",
       "1  cuidado com a poupanca pessoal lembram o que a...  \n",
       "2  sabe o que eu acho engracado os nossos governa...  \n",
       "3               podiam retirar dos lucros dos bancos  \n",
       "4  cade o galvao pra narrar agora faliiiiuuuuuuu ...  \n",
       "5  nao e possivel que deputados tenham tantos car...  \n",
       "6  sejam honestos aprovem o projeto original vamo...  \n",
       "7  nao a pizza anunciada de anistia do caixa sim ...  \n",
       "8  quem ja viu bandidos fazendo leis contra antic...  \n",
       "9  olha os caras fazendo algo de util e de intere...  "
      ]
     },
     "execution_count": 15,
     "metadata": {},
     "output_type": "execute_result"
    }
   ],
   "source": [
    "# append cleaned tweets to the training data\n",
    "train[\"clean_tweet\"] = train_clean_tweet\n",
    "\n",
    "# compare the cleaned and uncleaned tweets\n",
    "train.head(10)"
   ]
  },
  {
   "cell_type": "markdown",
   "id": "8fd82217",
   "metadata": {},
   "source": [
    "## Separando dados para teste e Treino"
   ]
  },
  {
   "cell_type": "code",
   "execution_count": 16,
   "id": "a8f3369d",
   "metadata": {},
   "outputs": [],
   "source": [
    "from sklearn.model_selection import train_test_split\n",
    "\n",
    "# extract the labels from the train data\n",
    "y = train.label.values\n",
    "\n",
    "# use 70% for the training and 30% for the test\n",
    "x_train, x_test, y_train, y_test = train_test_split(train.clean_tweet.values, y, \n",
    "                                                    stratify=y, \n",
    "                                                    random_state=1, \n",
    "                                                    test_size=0.3, shuffle=True)"
   ]
  },
  {
   "cell_type": "markdown",
   "id": "12676ad3",
   "metadata": {},
   "source": [
    "## Vetorizando tweets com CountVectorizer"
   ]
  },
  {
   "cell_type": "code",
   "execution_count": 17,
   "id": "1ee1700d",
   "metadata": {},
   "outputs": [],
   "source": [
    "from sklearn.feature_extraction.text import CountVectorizer"
   ]
  },
  {
   "cell_type": "code",
   "execution_count": 67,
   "id": "0db34bca",
   "metadata": {},
   "outputs": [
    {
     "data": {
      "text/html": [
       "<div>\n",
       "<style scoped>\n",
       "    .dataframe tbody tr th:only-of-type {\n",
       "        vertical-align: middle;\n",
       "    }\n",
       "\n",
       "    .dataframe tbody tr th {\n",
       "        vertical-align: top;\n",
       "    }\n",
       "\n",
       "    .dataframe thead th {\n",
       "        text-align: right;\n",
       "    }\n",
       "</style>\n",
       "<table border=\"1\" class=\"dataframe\">\n",
       "  <thead>\n",
       "    <tr style=\"text-align: right;\">\n",
       "      <th></th>\n",
       "      <th>algorithm</th>\n",
       "      <th>an</th>\n",
       "      <th>and</th>\n",
       "      <th>awesome</th>\n",
       "      <th>data</th>\n",
       "      <th>fun</th>\n",
       "      <th>is</th>\n",
       "      <th>it</th>\n",
       "      <th>my</th>\n",
       "      <th>our</th>\n",
       "      <th>paper</th>\n",
       "      <th>passion</th>\n",
       "      <th>science</th>\n",
       "      <th>short</th>\n",
       "      <th>tesis</th>\n",
       "      <th>test</th>\n",
       "      <th>tgi</th>\n",
       "      <th>this</th>\n",
       "    </tr>\n",
       "  </thead>\n",
       "  <tbody>\n",
       "    <tr>\n",
       "      <th>0</th>\n",
       "      <td>1</td>\n",
       "      <td>0</td>\n",
       "      <td>0</td>\n",
       "      <td>0</td>\n",
       "      <td>0</td>\n",
       "      <td>0</td>\n",
       "      <td>1</td>\n",
       "      <td>0</td>\n",
       "      <td>0</td>\n",
       "      <td>1</td>\n",
       "      <td>0</td>\n",
       "      <td>0</td>\n",
       "      <td>0</td>\n",
       "      <td>0</td>\n",
       "      <td>1</td>\n",
       "      <td>1</td>\n",
       "      <td>1</td>\n",
       "      <td>1</td>\n",
       "    </tr>\n",
       "    <tr>\n",
       "      <th>1</th>\n",
       "      <td>0</td>\n",
       "      <td>0</td>\n",
       "      <td>1</td>\n",
       "      <td>0</td>\n",
       "      <td>1</td>\n",
       "      <td>1</td>\n",
       "      <td>2</td>\n",
       "      <td>1</td>\n",
       "      <td>1</td>\n",
       "      <td>0</td>\n",
       "      <td>0</td>\n",
       "      <td>1</td>\n",
       "      <td>1</td>\n",
       "      <td>0</td>\n",
       "      <td>0</td>\n",
       "      <td>0</td>\n",
       "      <td>0</td>\n",
       "      <td>0</td>\n",
       "    </tr>\n",
       "    <tr>\n",
       "      <th>2</th>\n",
       "      <td>0</td>\n",
       "      <td>1</td>\n",
       "      <td>0</td>\n",
       "      <td>1</td>\n",
       "      <td>0</td>\n",
       "      <td>0</td>\n",
       "      <td>1</td>\n",
       "      <td>0</td>\n",
       "      <td>0</td>\n",
       "      <td>0</td>\n",
       "      <td>1</td>\n",
       "      <td>0</td>\n",
       "      <td>0</td>\n",
       "      <td>1</td>\n",
       "      <td>0</td>\n",
       "      <td>0</td>\n",
       "      <td>0</td>\n",
       "      <td>1</td>\n",
       "    </tr>\n",
       "  </tbody>\n",
       "</table>\n",
       "</div>"
      ],
      "text/plain": [
       "   algorithm  an  and  awesome  data  fun  is  it  my  our  paper  passion  \\\n",
       "0          1   0    0        0     0    0   1   0   0    1      0        0   \n",
       "1          0   0    1        0     1    1   2   1   1    0      0        1   \n",
       "2          0   1    0        1     0    0   1   0   0    0      1        0   \n",
       "\n",
       "   science  short  tesis  test  tgi  this  \n",
       "0        0      0      1     1    1     1  \n",
       "1        1      0      0     0    0     0  \n",
       "2        0      1      0     0    0     1  "
      ]
     },
     "execution_count": 67,
     "metadata": {},
     "output_type": "execute_result"
    }
   ],
   "source": [
    "documents = [\"This is our TGI tesis test algorithm\",\n",
    "             \"Data science is my passion and it is fun!\",\n",
    "             \"This is an awesome short paper\"]\n",
    "\n",
    "# initializing the countvectorizer\n",
    "vectorizer = CountVectorizer()\n",
    "\n",
    "# tokenize and make the document into a matrix\n",
    "document_term_matrix = vectorizer.fit_transform(documents)\n",
    "\n",
    "# check the result\n",
    "pd.DataFrame(document_term_matrix.toarray(), columns = vectorizer.get_feature_names_out())"
   ]
  },
  {
   "cell_type": "code",
   "execution_count": 68,
   "id": "74a7e5d4",
   "metadata": {},
   "outputs": [],
   "source": [
    "from sklearn.feature_extraction.text import CountVectorizer\n",
    "\n",
    "# vectorize tweets for model building\n",
    "vectorizer = CountVectorizer(binary=True)\n",
    "\n",
    "# learn a vocabulary dictionary of all tokens in the raw documents\n",
    "vectorizer.fit(list(x_train) + list(x_test))\n",
    "\n",
    "# transform documents to document-term matrix\n",
    "x_train_vec = vectorizer.transform(x_train)\n",
    "x_test_vec = vectorizer.transform(x_test)"
   ]
  },
  {
   "cell_type": "markdown",
   "id": "1c2539bd",
   "metadata": {},
   "source": [
    "## Contruindo o Modelo"
   ]
  },
  {
   "cell_type": "markdown",
   "id": "21fa54d8",
   "metadata": {},
   "source": [
    "Aplicando Support Vector Classifier (SVC)"
   ]
  },
  {
   "cell_type": "code",
   "execution_count": 69,
   "id": "cedcbd77",
   "metadata": {},
   "outputs": [],
   "source": [
    "from sklearn import svm\n",
    "# classify using support vector classifier\n",
    "svm = svm.SVC(kernel = 'linear', probability=True)\n",
    "\n",
    "# fit the SVC model based on the given training data\n",
    "prob = svm.fit(x_train_vec, y_train).predict_proba(x_test_vec)\n",
    "\n",
    "# perform classification and prediction on samples in x_test\n",
    "y_pred_svm = svm.predict(x_test_vec)"
   ]
  },
  {
   "cell_type": "markdown",
   "id": "96aae072",
   "metadata": {},
   "source": [
    "## Verificando a precisão do SVC"
   ]
  },
  {
   "cell_type": "code",
   "execution_count": 70,
   "id": "cd5980da",
   "metadata": {
    "scrolled": true
   },
   "outputs": [
    {
     "name": "stdout",
     "output_type": "stream",
     "text": [
      "Accuracy score for SVC is:  79.35483870967742 %\n"
     ]
    }
   ],
   "source": [
    "from sklearn.metrics import accuracy_score\n",
    "print(\"Accuracy score for SVC is: \", accuracy_score(y_test, y_pred_svm) * 100, '%')\n",
    "\n"
   ]
  },
  {
   "cell_type": "markdown",
   "id": "eb3eaa4f",
   "metadata": {},
   "source": [
    "# Testes"
   ]
  },
  {
   "cell_type": "code",
   "execution_count": 18,
   "id": "d032374f",
   "metadata": {},
   "outputs": [],
   "source": [
    "test_clean_tweet = clean_tweets(test[\"text\"])\n",
    "test_clean_tweet = pd.DataFrame(test_clean_tweet)"
   ]
  },
  {
   "cell_type": "code",
   "execution_count": 19,
   "id": "8f6e73c0",
   "metadata": {},
   "outputs": [
    {
     "data": {
      "text/html": [
       "<div>\n",
       "<style scoped>\n",
       "    .dataframe tbody tr th:only-of-type {\n",
       "        vertical-align: middle;\n",
       "    }\n",
       "\n",
       "    .dataframe tbody tr th {\n",
       "        vertical-align: top;\n",
       "    }\n",
       "\n",
       "    .dataframe thead th {\n",
       "        text-align: right;\n",
       "    }\n",
       "</style>\n",
       "<table border=\"1\" class=\"dataframe\">\n",
       "  <thead>\n",
       "    <tr style=\"text-align: right;\">\n",
       "      <th></th>\n",
       "      <th>trend</th>\n",
       "      <th>id</th>\n",
       "      <th>text</th>\n",
       "      <th>clean_tweet</th>\n",
       "    </tr>\n",
       "  </thead>\n",
       "  <tbody>\n",
       "    <tr>\n",
       "      <th>0</th>\n",
       "      <td>#LulaPresidente1️⃣3️⃣</td>\n",
       "      <td>1586531315318689800</td>\n",
       "      <td>Em nome de jesus ,amém🙏🙌 #LulaPresidente1️⃣3️⃣...</td>\n",
       "      <td>em nome de jesus amm</td>\n",
       "    </tr>\n",
       "    <tr>\n",
       "      <th>1</th>\n",
       "      <td>#LulaPresidente1️⃣3️⃣</td>\n",
       "      <td>1586531316727566300</td>\n",
       "      <td>RT @MrJimmyDaFloof: #NewProfilePic amanhã, car...</td>\n",
       "      <td>amanh caralho</td>\n",
       "    </tr>\n",
       "    <tr>\n",
       "      <th>2</th>\n",
       "      <td>#LulaPresidente1️⃣3️⃣</td>\n",
       "      <td>1586531314022240300</td>\n",
       "      <td>#LulaPresidente1️⃣3️⃣  pq o Brasil  merece um ...</td>\n",
       "      <td>pq o brasil merece um presidente melhor</td>\n",
       "    </tr>\n",
       "    <tr>\n",
       "      <th>3</th>\n",
       "      <td>#LulaPresidente1️⃣3️⃣</td>\n",
       "      <td>1586531305252003800</td>\n",
       "      <td>RT @jandira_feghali: Numa escala de 10 a 10 qu...</td>\n",
       "      <td>numa escala de a qual o nvel de esperana de vocs</td>\n",
       "    </tr>\n",
       "    <tr>\n",
       "      <th>4</th>\n",
       "      <td>#LulaPresidente1️⃣3️⃣</td>\n",
       "      <td>1586531309765087200</td>\n",
       "      <td>RT @ptsaopaulosp: A VIRADA CHEGOU!!! Vamos que...</td>\n",
       "      <td>a virada chegou vamos que vamos que amanh</td>\n",
       "    </tr>\n",
       "    <tr>\n",
       "      <th>5</th>\n",
       "      <td>#LulaPresidente1️⃣3️⃣</td>\n",
       "      <td>1586531306640638000</td>\n",
       "      <td>RT @Fagner_jp: Tem cidadão de bem que apoia es...</td>\n",
       "      <td>tem cidado de bem que apoia esse tipo de gent...</td>\n",
       "    </tr>\n",
       "    <tr>\n",
       "      <th>6</th>\n",
       "      <td>#LulaPresidente1️⃣3️⃣</td>\n",
       "      <td>1586531302789894100</td>\n",
       "      <td>@guinasouzacanal @AndreJanonesAdv É sobre isso...</td>\n",
       "      <td>sobre isso</td>\n",
       "    </tr>\n",
       "    <tr>\n",
       "      <th>7</th>\n",
       "      <td>#LulaPresidente1️⃣3️⃣</td>\n",
       "      <td>1586531305176518700</td>\n",
       "      <td>@folha Só por isso ai, de armação fake-fakeada...</td>\n",
       "      <td>s por isso ai de armao fake fakeada2018 e para...</td>\n",
       "    </tr>\n",
       "    <tr>\n",
       "      <th>8</th>\n",
       "      <td>TE AMO ESPANHOLA</td>\n",
       "      <td>1586531313095352300</td>\n",
       "      <td>@direitasiqueira BOLSONARISMO MATA ZAMBELLI NA...</td>\n",
       "      <td>bolsonarismo mata zambelli na cadeia te amo es...</td>\n",
       "    </tr>\n",
       "    <tr>\n",
       "      <th>9</th>\n",
       "      <td>#LulaPresidente1️⃣3️⃣</td>\n",
       "      <td>1586531300227174400</td>\n",
       "      <td>Essa chuva que tá caindo já é lavando o bolson...</td>\n",
       "      <td>essa chuva que t caindo j lavando o bolsonaris...</td>\n",
       "    </tr>\n",
       "  </tbody>\n",
       "</table>\n",
       "</div>"
      ],
      "text/plain": [
       "                   trend                   id  \\\n",
       "0  #LulaPresidente1️⃣3️⃣  1586531315318689800   \n",
       "1  #LulaPresidente1️⃣3️⃣  1586531316727566300   \n",
       "2  #LulaPresidente1️⃣3️⃣  1586531314022240300   \n",
       "3  #LulaPresidente1️⃣3️⃣  1586531305252003800   \n",
       "4  #LulaPresidente1️⃣3️⃣  1586531309765087200   \n",
       "5  #LulaPresidente1️⃣3️⃣  1586531306640638000   \n",
       "6  #LulaPresidente1️⃣3️⃣  1586531302789894100   \n",
       "7  #LulaPresidente1️⃣3️⃣  1586531305176518700   \n",
       "8       TE AMO ESPANHOLA  1586531313095352300   \n",
       "9  #LulaPresidente1️⃣3️⃣  1586531300227174400   \n",
       "\n",
       "                                                text  \\\n",
       "0  Em nome de jesus ,amém🙏🙌 #LulaPresidente1️⃣3️⃣...   \n",
       "1  RT @MrJimmyDaFloof: #NewProfilePic amanhã, car...   \n",
       "2  #LulaPresidente1️⃣3️⃣  pq o Brasil  merece um ...   \n",
       "3  RT @jandira_feghali: Numa escala de 10 a 10 qu...   \n",
       "4  RT @ptsaopaulosp: A VIRADA CHEGOU!!! Vamos que...   \n",
       "5  RT @Fagner_jp: Tem cidadão de bem que apoia es...   \n",
       "6  @guinasouzacanal @AndreJanonesAdv É sobre isso...   \n",
       "7  @folha Só por isso ai, de armação fake-fakeada...   \n",
       "8  @direitasiqueira BOLSONARISMO MATA ZAMBELLI NA...   \n",
       "9  Essa chuva que tá caindo já é lavando o bolson...   \n",
       "\n",
       "                                         clean_tweet  \n",
       "0                               em nome de jesus amm  \n",
       "1                                      amanh caralho  \n",
       "2            pq o brasil merece um presidente melhor  \n",
       "3   numa escala de a qual o nvel de esperana de vocs  \n",
       "4         a virada chegou vamos que vamos que amanh   \n",
       "5   tem cidado de bem que apoia esse tipo de gent...  \n",
       "6                                        sobre isso   \n",
       "7  s por isso ai de armao fake fakeada2018 e para...  \n",
       "8  bolsonarismo mata zambelli na cadeia te amo es...  \n",
       "9  essa chuva que t caindo j lavando o bolsonaris...  "
      ]
     },
     "execution_count": 19,
     "metadata": {},
     "output_type": "execute_result"
    }
   ],
   "source": [
    "# append cleaned tweets to the training data\n",
    "test[\"clean_tweet\"] = test_clean_tweet\n",
    "\n",
    "# compare the cleaned and uncleaned tweets\n",
    "test.head(10)"
   ]
  },
  {
   "cell_type": "code",
   "execution_count": 22,
   "id": "ab1a0cb3",
   "metadata": {},
   "outputs": [],
   "source": [
    "from sklearn.feature_extraction.text import CountVectorizer\n",
    "\n",
    "# vectorize tweets for model building\n",
    "vectorizer = CountVectorizer(binary=True)\n",
    "\n",
    "# learn a vocabulary dictionary of all tokens in the raw documents\n",
    "vectorizer.fit(list(x_train) + list(x_test) + list(test.clean_tweet.values))\n",
    "\n",
    "# transform documents to document-term matrix\n",
    "x_train_vec = vectorizer.transform(x_train)\n",
    "x_test_vec = vectorizer.transform(x_test)\n",
    "test_vec = vectorizer.transform(test.clean_tweet.values)"
   ]
  },
  {
   "cell_type": "code",
   "execution_count": 23,
   "id": "3b33e0c1",
   "metadata": {},
   "outputs": [],
   "source": [
    "from sklearn import svm\n",
    "# classify using support vector classifier\n",
    "svm = svm.SVC(kernel = 'linear', probability=True)\n",
    "\n",
    "# fit the SVC model based on the given training data\n",
    "prob = svm.fit(x_train_vec, y_train).predict_proba(test_vec)\n",
    "\n",
    "# perform classification and prediction on samples in x_test\n",
    "y_pred_svm = svm.predict(test_vec)"
   ]
  },
  {
   "cell_type": "code",
   "execution_count": 27,
   "id": "ab1d0342",
   "metadata": {},
   "outputs": [
    {
     "data": {
      "text/plain": [
       "array([0, 0, 0, 0, 0, 1, 0, 0, 0, 0, 0, 0, 0, 1, 0, 0, 0, 0, 0, 0, 0, 0,\n",
       "       0, 0, 0, 0, 0, 0, 0, 0, 0, 0, 1, 0, 0, 0, 0, 0, 0, 0, 0, 0, 0, 0,\n",
       "       0, 0, 0, 0, 0, 0, 0, 0, 0, 0, 0, 0, 0, 0, 0, 0, 1, 1, 0, 1, 0, 0,\n",
       "       0, 0, 0, 0, 0, 1, 0, 0, 0, 0, 0, 0, 0, 0, 0, 0, 1, 0, 0, 0, 0, 0,\n",
       "       0, 0, 0, 0, 0, 0, 0, 0, 0, 0, 0], dtype=int64)"
      ]
     },
     "execution_count": 27,
     "metadata": {},
     "output_type": "execute_result"
    }
   ],
   "source": [
    "y_pred_svm"
   ]
  },
  {
   "cell_type": "code",
   "execution_count": 25,
   "id": "247230e5",
   "metadata": {},
   "outputs": [
    {
     "data": {
      "text/plain": [
       "(99, 4)"
      ]
     },
     "execution_count": 25,
     "metadata": {},
     "output_type": "execute_result"
    }
   ],
   "source": [
    "test.shape"
   ]
  },
  {
   "cell_type": "code",
   "execution_count": 30,
   "id": "b0fe9548",
   "metadata": {},
   "outputs": [],
   "source": [
    "test[\"label\"] = pd.DataFrame(y_pred_svm)"
   ]
  },
  {
   "cell_type": "code",
   "execution_count": 36,
   "id": "2ab97210",
   "metadata": {},
   "outputs": [
    {
     "data": {
      "text/html": [
       "<div>\n",
       "<style scoped>\n",
       "    .dataframe tbody tr th:only-of-type {\n",
       "        vertical-align: middle;\n",
       "    }\n",
       "\n",
       "    .dataframe tbody tr th {\n",
       "        vertical-align: top;\n",
       "    }\n",
       "\n",
       "    .dataframe thead th {\n",
       "        text-align: right;\n",
       "    }\n",
       "</style>\n",
       "<table border=\"1\" class=\"dataframe\">\n",
       "  <thead>\n",
       "    <tr style=\"text-align: right;\">\n",
       "      <th></th>\n",
       "      <th>trend</th>\n",
       "      <th>id</th>\n",
       "      <th>text</th>\n",
       "      <th>clean_tweet</th>\n",
       "      <th>label</th>\n",
       "    </tr>\n",
       "  </thead>\n",
       "  <tbody>\n",
       "    <tr>\n",
       "      <th>0</th>\n",
       "      <td>#LulaPresidente1️⃣3️⃣</td>\n",
       "      <td>1586531315318689800</td>\n",
       "      <td>Em nome de jesus ,amém🙏🙌 #LulaPresidente1️⃣3️⃣...</td>\n",
       "      <td>em nome de jesus amm</td>\n",
       "      <td>0</td>\n",
       "    </tr>\n",
       "    <tr>\n",
       "      <th>1</th>\n",
       "      <td>#LulaPresidente1️⃣3️⃣</td>\n",
       "      <td>1586531316727566300</td>\n",
       "      <td>RT @MrJimmyDaFloof: #NewProfilePic amanhã, car...</td>\n",
       "      <td>amanh caralho</td>\n",
       "      <td>0</td>\n",
       "    </tr>\n",
       "    <tr>\n",
       "      <th>2</th>\n",
       "      <td>#LulaPresidente1️⃣3️⃣</td>\n",
       "      <td>1586531314022240300</td>\n",
       "      <td>#LulaPresidente1️⃣3️⃣  pq o Brasil  merece um ...</td>\n",
       "      <td>pq o brasil merece um presidente melhor</td>\n",
       "      <td>0</td>\n",
       "    </tr>\n",
       "    <tr>\n",
       "      <th>3</th>\n",
       "      <td>#LulaPresidente1️⃣3️⃣</td>\n",
       "      <td>1586531305252003800</td>\n",
       "      <td>RT @jandira_feghali: Numa escala de 10 a 10 qu...</td>\n",
       "      <td>numa escala de a qual o nvel de esperana de vocs</td>\n",
       "      <td>0</td>\n",
       "    </tr>\n",
       "    <tr>\n",
       "      <th>4</th>\n",
       "      <td>#LulaPresidente1️⃣3️⃣</td>\n",
       "      <td>1586531309765087200</td>\n",
       "      <td>RT @ptsaopaulosp: A VIRADA CHEGOU!!! Vamos que...</td>\n",
       "      <td>a virada chegou vamos que vamos que amanh</td>\n",
       "      <td>0</td>\n",
       "    </tr>\n",
       "    <tr>\n",
       "      <th>5</th>\n",
       "      <td>#LulaPresidente1️⃣3️⃣</td>\n",
       "      <td>1586531306640638000</td>\n",
       "      <td>RT @Fagner_jp: Tem cidadão de bem que apoia es...</td>\n",
       "      <td>tem cidado de bem que apoia esse tipo de gent...</td>\n",
       "      <td>1</td>\n",
       "    </tr>\n",
       "    <tr>\n",
       "      <th>6</th>\n",
       "      <td>#LulaPresidente1️⃣3️⃣</td>\n",
       "      <td>1586531302789894100</td>\n",
       "      <td>@guinasouzacanal @AndreJanonesAdv É sobre isso...</td>\n",
       "      <td>sobre isso</td>\n",
       "      <td>0</td>\n",
       "    </tr>\n",
       "    <tr>\n",
       "      <th>7</th>\n",
       "      <td>#LulaPresidente1️⃣3️⃣</td>\n",
       "      <td>1586531305176518700</td>\n",
       "      <td>@folha Só por isso ai, de armação fake-fakeada...</td>\n",
       "      <td>s por isso ai de armao fake fakeada2018 e para...</td>\n",
       "      <td>0</td>\n",
       "    </tr>\n",
       "    <tr>\n",
       "      <th>8</th>\n",
       "      <td>TE AMO ESPANHOLA</td>\n",
       "      <td>1586531313095352300</td>\n",
       "      <td>@direitasiqueira BOLSONARISMO MATA ZAMBELLI NA...</td>\n",
       "      <td>bolsonarismo mata zambelli na cadeia te amo es...</td>\n",
       "      <td>0</td>\n",
       "    </tr>\n",
       "    <tr>\n",
       "      <th>9</th>\n",
       "      <td>#LulaPresidente1️⃣3️⃣</td>\n",
       "      <td>1586531300227174400</td>\n",
       "      <td>Essa chuva que tá caindo já é lavando o bolson...</td>\n",
       "      <td>essa chuva que t caindo j lavando o bolsonaris...</td>\n",
       "      <td>0</td>\n",
       "    </tr>\n",
       "    <tr>\n",
       "      <th>10</th>\n",
       "      <td>TE AMO ESPANHOLA</td>\n",
       "      <td>1586531312856289300</td>\n",
       "      <td>RT @EmlioMSM: ZAMBELLI ouviu TE AMO ESPANHOLA ...</td>\n",
       "      <td>zambelli ouviu te amo espanhola e ficou puta ...</td>\n",
       "      <td>0</td>\n",
       "    </tr>\n",
       "    <tr>\n",
       "      <th>11</th>\n",
       "      <td>TE AMO ESPANHOLA</td>\n",
       "      <td>1586531315184066600</td>\n",
       "      <td>RT @AnonNovidades: Carla Zambelli tem dois CPF...</td>\n",
       "      <td>carla zambelli tem dois cpfs fez o segundo qu...</td>\n",
       "      <td>0</td>\n",
       "    </tr>\n",
       "    <tr>\n",
       "      <th>12</th>\n",
       "      <td>TE AMO ESPANHOLA</td>\n",
       "      <td>1586531312512270300</td>\n",
       "      <td>RT @AnonNovidades: Carla Zambelli tem dois CPF...</td>\n",
       "      <td>carla zambelli tem dois cpfs fez o segundo qu...</td>\n",
       "      <td>0</td>\n",
       "    </tr>\n",
       "    <tr>\n",
       "      <th>13</th>\n",
       "      <td>TE AMO ESPANHOLA</td>\n",
       "      <td>1586531311732199400</td>\n",
       "      <td>RT @AndreJanonesAdv: Eu já assisti o vídeo ate...</td>\n",
       "      <td>eu j assisti o vdeo atentamente por vezes o m...</td>\n",
       "      <td>1</td>\n",
       "    </tr>\n",
       "    <tr>\n",
       "      <th>14</th>\n",
       "      <td>TE AMO ESPANHOLA</td>\n",
       "      <td>1586531311119802400</td>\n",
       "      <td>RT @bicmuller: Pq a Carla Zambelli sacou a arm...</td>\n",
       "      <td>pq a carla zambelli sacou a arma pra um cara ...</td>\n",
       "      <td>0</td>\n",
       "    </tr>\n",
       "    <tr>\n",
       "      <th>15</th>\n",
       "      <td>TE AMO ESPANHOLA</td>\n",
       "      <td>1586531310071210000</td>\n",
       "      <td>RT @AnonNovidades: Carla Zambelli tem dois CPF...</td>\n",
       "      <td>carla zambelli tem dois cpfs fez o segundo qu...</td>\n",
       "      <td>0</td>\n",
       "    </tr>\n",
       "    <tr>\n",
       "      <th>16</th>\n",
       "      <td>TE AMO ESPANHOLA</td>\n",
       "      <td>1586531308506734600</td>\n",
       "      <td>RT @AnonNovidades: Carla Zambelli tem dois CPF...</td>\n",
       "      <td>carla zambelli tem dois cpfs fez o segundo qu...</td>\n",
       "      <td>0</td>\n",
       "    </tr>\n",
       "    <tr>\n",
       "      <th>17</th>\n",
       "      <td>TE AMO ESPANHOLA</td>\n",
       "      <td>1586531313011474400</td>\n",
       "      <td>RT @bicmuller: Pq a Carla Zambelli sacou a arm...</td>\n",
       "      <td>pq a carla zambelli sacou a arma pra um cara ...</td>\n",
       "      <td>0</td>\n",
       "    </tr>\n",
       "    <tr>\n",
       "      <th>18</th>\n",
       "      <td>TE AMO ESPANHOLA</td>\n",
       "      <td>1586531308171186200</td>\n",
       "      <td>@AndreJanonesAdv Te amo espanhola cometeu crime.</td>\n",
       "      <td>te amo espanhola cometeu crime</td>\n",
       "      <td>0</td>\n",
       "    </tr>\n",
       "    <tr>\n",
       "      <th>19</th>\n",
       "      <td>Flamengo</td>\n",
       "      <td>1586531317100949500</td>\n",
       "      <td>RT @giraltpablo: ¡FLAMENGO CAMPEÓN DE LA COPA ...</td>\n",
       "      <td>flamengo campen de la copa libertadores</td>\n",
       "      <td>0</td>\n",
       "    </tr>\n",
       "  </tbody>\n",
       "</table>\n",
       "</div>"
      ],
      "text/plain": [
       "                    trend                   id  \\\n",
       "0   #LulaPresidente1️⃣3️⃣  1586531315318689800   \n",
       "1   #LulaPresidente1️⃣3️⃣  1586531316727566300   \n",
       "2   #LulaPresidente1️⃣3️⃣  1586531314022240300   \n",
       "3   #LulaPresidente1️⃣3️⃣  1586531305252003800   \n",
       "4   #LulaPresidente1️⃣3️⃣  1586531309765087200   \n",
       "5   #LulaPresidente1️⃣3️⃣  1586531306640638000   \n",
       "6   #LulaPresidente1️⃣3️⃣  1586531302789894100   \n",
       "7   #LulaPresidente1️⃣3️⃣  1586531305176518700   \n",
       "8        TE AMO ESPANHOLA  1586531313095352300   \n",
       "9   #LulaPresidente1️⃣3️⃣  1586531300227174400   \n",
       "10       TE AMO ESPANHOLA  1586531312856289300   \n",
       "11       TE AMO ESPANHOLA  1586531315184066600   \n",
       "12       TE AMO ESPANHOLA  1586531312512270300   \n",
       "13       TE AMO ESPANHOLA  1586531311732199400   \n",
       "14       TE AMO ESPANHOLA  1586531311119802400   \n",
       "15       TE AMO ESPANHOLA  1586531310071210000   \n",
       "16       TE AMO ESPANHOLA  1586531308506734600   \n",
       "17       TE AMO ESPANHOLA  1586531313011474400   \n",
       "18       TE AMO ESPANHOLA  1586531308171186200   \n",
       "19               Flamengo  1586531317100949500   \n",
       "\n",
       "                                                 text  \\\n",
       "0   Em nome de jesus ,amém🙏🙌 #LulaPresidente1️⃣3️⃣...   \n",
       "1   RT @MrJimmyDaFloof: #NewProfilePic amanhã, car...   \n",
       "2   #LulaPresidente1️⃣3️⃣  pq o Brasil  merece um ...   \n",
       "3   RT @jandira_feghali: Numa escala de 10 a 10 qu...   \n",
       "4   RT @ptsaopaulosp: A VIRADA CHEGOU!!! Vamos que...   \n",
       "5   RT @Fagner_jp: Tem cidadão de bem que apoia es...   \n",
       "6   @guinasouzacanal @AndreJanonesAdv É sobre isso...   \n",
       "7   @folha Só por isso ai, de armação fake-fakeada...   \n",
       "8   @direitasiqueira BOLSONARISMO MATA ZAMBELLI NA...   \n",
       "9   Essa chuva que tá caindo já é lavando o bolson...   \n",
       "10  RT @EmlioMSM: ZAMBELLI ouviu TE AMO ESPANHOLA ...   \n",
       "11  RT @AnonNovidades: Carla Zambelli tem dois CPF...   \n",
       "12  RT @AnonNovidades: Carla Zambelli tem dois CPF...   \n",
       "13  RT @AndreJanonesAdv: Eu já assisti o vídeo ate...   \n",
       "14  RT @bicmuller: Pq a Carla Zambelli sacou a arm...   \n",
       "15  RT @AnonNovidades: Carla Zambelli tem dois CPF...   \n",
       "16  RT @AnonNovidades: Carla Zambelli tem dois CPF...   \n",
       "17  RT @bicmuller: Pq a Carla Zambelli sacou a arm...   \n",
       "18   @AndreJanonesAdv Te amo espanhola cometeu crime.   \n",
       "19  RT @giraltpablo: ¡FLAMENGO CAMPEÓN DE LA COPA ...   \n",
       "\n",
       "                                          clean_tweet  label  \n",
       "0                                em nome de jesus amm      0  \n",
       "1                                       amanh caralho      0  \n",
       "2             pq o brasil merece um presidente melhor      0  \n",
       "3    numa escala de a qual o nvel de esperana de vocs      0  \n",
       "4          a virada chegou vamos que vamos que amanh       0  \n",
       "5    tem cidado de bem que apoia esse tipo de gent...      1  \n",
       "6                                         sobre isso       0  \n",
       "7   s por isso ai de armao fake fakeada2018 e para...      0  \n",
       "8   bolsonarismo mata zambelli na cadeia te amo es...      0  \n",
       "9   essa chuva que t caindo j lavando o bolsonaris...      0  \n",
       "10   zambelli ouviu te amo espanhola e ficou puta ...      0  \n",
       "11   carla zambelli tem dois cpfs fez o segundo qu...      0  \n",
       "12   carla zambelli tem dois cpfs fez o segundo qu...      0  \n",
       "13   eu j assisti o vdeo atentamente por vezes o m...      1  \n",
       "14   pq a carla zambelli sacou a arma pra um cara ...      0  \n",
       "15   carla zambelli tem dois cpfs fez o segundo qu...      0  \n",
       "16   carla zambelli tem dois cpfs fez o segundo qu...      0  \n",
       "17   pq a carla zambelli sacou a arma pra um cara ...      0  \n",
       "18                     te amo espanhola cometeu crime      0  \n",
       "19           flamengo campen de la copa libertadores       0  "
      ]
     },
     "execution_count": 36,
     "metadata": {},
     "output_type": "execute_result"
    }
   ],
   "source": [
    "test.head(20)"
   ]
  },
  {
   "cell_type": "code",
   "execution_count": 32,
   "id": "93797c2e",
   "metadata": {},
   "outputs": [
    {
     "data": {
      "text/plain": [
       "8"
      ]
     },
     "execution_count": 32,
     "metadata": {},
     "output_type": "execute_result"
    }
   ],
   "source": [
    "sum(test[\"label\"] == 1)"
   ]
  },
  {
   "cell_type": "code",
   "execution_count": 42,
   "id": "d50fc163",
   "metadata": {},
   "outputs": [
    {
     "data": {
      "text/plain": [
       "5      tem cidado de bem que apoia esse tipo de gent...\n",
       "13     eu j assisti o vdeo atentamente por vezes o m...\n",
       "32     video da carla zambelli correndo atrs do band...\n",
       "60     se o kiko late eu escuto se o kiko mostra a b...\n",
       "61                               kkkkkkkk vazou o filme\n",
       "63                                            alexandre\n",
       "71     gabriel barbosa eu s quero a tua roula encaix...\n",
       "82     eu j sou apaixonada por voc guaxi no precisav...\n",
       "Name: clean_tweet, dtype: object"
      ]
     },
     "execution_count": 42,
     "metadata": {},
     "output_type": "execute_result"
    }
   ],
   "source": [
    "test.loc[test['label'] == 1].clean_tweet"
   ]
  },
  {
   "cell_type": "code",
   "execution_count": null,
   "id": "213fcd4c",
   "metadata": {},
   "outputs": [],
   "source": []
  }
 ],
 "metadata": {
  "kernelspec": {
   "display_name": "Python 3 (ipykernel)",
   "language": "python",
   "name": "python3"
  },
  "language_info": {
   "codemirror_mode": {
    "name": "ipython",
    "version": 3
   },
   "file_extension": ".py",
   "mimetype": "text/x-python",
   "name": "python",
   "nbconvert_exporter": "python",
   "pygments_lexer": "ipython3",
   "version": "3.9.12"
  }
 },
 "nbformat": 4,
 "nbformat_minor": 5
}
